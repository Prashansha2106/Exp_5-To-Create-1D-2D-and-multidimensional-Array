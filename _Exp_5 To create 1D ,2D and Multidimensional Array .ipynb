{
 "cells": [
  {
   "cell_type": "code",
   "execution_count": null,
   "id": "54567925-f11b-4145-a17b-8443ce48bbf9",
   "metadata": {},
   "outputs": [],
   "source": [
    "#Aim : To Create 1D , 2D and Multidimensional Array"
   ]
  },
  {
   "cell_type": "code",
   "execution_count": null,
   "id": "4c9d4292-6c09-4314-945f-22d651f56ab3",
   "metadata": {},
   "outputs": [],
   "source": [
    "#Name : Prashansha Rajendra Sahastrabuddhe\n",
    "#Roll No : 54\n",
    "#Sec : A\n",
    "#Subject : ET-1\n",
    "#Data : 19/08/2025"
   ]
  },
  {
   "cell_type": "code",
   "execution_count": 1,
   "id": "fd820139-62d1-4e0f-974a-0808ff670362",
   "metadata": {},
   "outputs": [],
   "source": [
    "# importing the basic library \n",
    "import numpy as np"
   ]
  },
  {
   "cell_type": "code",
   "execution_count": 3,
   "id": "d630c792-968a-4814-8a18-6eb8263f0aa8",
   "metadata": {},
   "outputs": [],
   "source": [
    "# creating 1D Array using numpy"
   ]
  },
  {
   "cell_type": "code",
   "execution_count": 4,
   "id": "c9057ce5-8c18-4ef8-8fa6-8366b269c952",
   "metadata": {},
   "outputs": [],
   "source": [
    "a1=np.array([10,20,30,40,50])"
   ]
  },
  {
   "cell_type": "code",
   "execution_count": 5,
   "id": "9a8cc139-9e3f-4972-9e52-49b908c51b76",
   "metadata": {},
   "outputs": [
    {
     "data": {
      "text/plain": [
       "array([10, 20, 30, 40, 50])"
      ]
     },
     "execution_count": 5,
     "metadata": {},
     "output_type": "execute_result"
    }
   ],
   "source": [
    "a1"
   ]
  },
  {
   "cell_type": "code",
   "execution_count": 6,
   "id": "2730a2e5-f0b1-404b-8627-badfa5f44d1e",
   "metadata": {},
   "outputs": [],
   "source": [
    "# creating the 2D Array using the numpy"
   ]
  },
  {
   "cell_type": "code",
   "execution_count": 7,
   "id": "a885388a-4f97-448f-9366-91779004057b",
   "metadata": {},
   "outputs": [],
   "source": [
    "a2=np.array([[10,20,30,40],[60,70,80,90]])"
   ]
  },
  {
   "cell_type": "code",
   "execution_count": 8,
   "id": "8d3baa1b-2f80-41ba-a9bd-636b5a3c8861",
   "metadata": {},
   "outputs": [
    {
     "data": {
      "text/plain": [
       "array([[10, 20, 30, 40],\n",
       "       [60, 70, 80, 90]])"
      ]
     },
     "execution_count": 8,
     "metadata": {},
     "output_type": "execute_result"
    }
   ],
   "source": [
    "a2"
   ]
  },
  {
   "cell_type": "code",
   "execution_count": 9,
   "id": "95d3d068-acba-4b16-9a5b-7718114cadd3",
   "metadata": {},
   "outputs": [],
   "source": [
    "#creating 2D Array using Matrix"
   ]
  },
  {
   "cell_type": "code",
   "execution_count": 11,
   "id": "487f9998-6ee1-4e40-ae16-de8a607d40ba",
   "metadata": {},
   "outputs": [
    {
     "name": "stdout",
     "output_type": "stream",
     "text": [
      "[[11 22]\n",
      " [33 44]\n",
      " [55 66]]\n"
     ]
    }
   ],
   "source": [
    "a3=np.matrix('11 22;33 44;55 66')\n",
    "print(a3)"
   ]
  },
  {
   "cell_type": "code",
   "execution_count": null,
   "id": "8469eb39-1f3a-4858-bdad-5a877afb887f",
   "metadata": {},
   "outputs": [],
   "source": []
  }
 ],
 "metadata": {
  "kernelspec": {
   "display_name": "Python 3 (ipykernel)",
   "language": "python",
   "name": "python3"
  },
  "language_info": {
   "codemirror_mode": {
    "name": "ipython",
    "version": 3
   },
   "file_extension": ".py",
   "mimetype": "text/x-python",
   "name": "python",
   "nbconvert_exporter": "python",
   "pygments_lexer": "ipython3",
   "version": "3.13.5"
  }
 },
 "nbformat": 4,
 "nbformat_minor": 5
}
